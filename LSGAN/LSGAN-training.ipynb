{
 "cells": [
  {
   "cell_type": "markdown",
   "metadata": {
    "colab_type": "text",
    "id": "5Dvu0FpDJr6W"
   },
   "source": [
    "# Least Square GAN"
   ]
  },
  {
   "cell_type": "markdown",
   "metadata": {
    "colab_type": "text",
    "id": "wNo9MXlGJr6X"
   },
   "source": [
    "### Introduction\n",
    "\n",
    "Improving the stabiilty and robustness of GAN training is an open research question, with new papers coming out every day! [LSGAN](https://arxiv.org/abs/1611.04076) was one of the known version that aimed to improve GAN results by finding more suitable loss function.\n",
    "\n",
    "### Learning Objectives\n",
    "\n",
    "- Understand the difference between LSGAN and GAN\n",
    "- Train LSGAN\n",
    "\n",
    "### Steps to run this notebook from Colaboratory\n",
    "\n",
    "This colab will run much faster on GPU. To use a Google Cloud\n",
    "GPU:\n",
    "\n",
    "1. Go to `Runtime > Change runtime type`.\n",
    "1. Click `Hardware accelerator`.\n",
    "1. Select `GPU` and click `Save`.\n",
    "1. Click `Connect` in the upper right corner and select `Connect to hosted runtime`."
   ]
  },
  {
   "cell_type": "markdown",
   "metadata": {
    "colab_type": "text",
    "id": "xAT9rSFAJr6Y"
   },
   "source": [
    "### Imports (RUN ME!)"
   ]
  },
  {
   "cell_type": "markdown",
   "metadata": {
    "colab_type": "text",
    "id": "w9b71qD8Jr6Z"
   },
   "source": [
    "Make sure to run the imports cell above, otherwise the rest of the cells will fail when you try to run them. (To run a cell press `shift` + `enter` with your mouse cursor in the cell or press the play button in the top right of the cell.)"
   ]
  },
  {
   "cell_type": "code",
   "execution_count": 1,
   "metadata": {
    "colab": {},
    "colab_type": "code",
    "executionInfo": {
     "elapsed": 2020,
     "status": "ok",
     "timestamp": 1600529480840,
     "user": {
      "displayName": "wiem chakroun",
      "photoUrl": "https://lh3.googleusercontent.com/a-/AOh14Gj8s9HGg4btepBpCmzEb_CKbGog70U3_WKfin3K=s64",
      "userId": "15943323347903066587"
     },
     "user_tz": -60
    },
    "id": "M2GvdJP1Jr6a"
   },
   "outputs": [],
   "source": [
    "%load_ext tensorboard\n",
    "\n",
    "import os\n",
    "from glob import glob\n",
    "import time\n",
    "import random\n",
    "\n",
    "import IPython.display as display\n",
    "import matplotlib.pyplot as plt # Matplotlib is used to generate plots of data.\n",
    "import matplotlib.image as mpimg\n",
    "import PIL\n",
    "from PIL import Image\n",
    "import imageio\n",
    "import numpy as np # Numpy is an efficient linear algebra library.\n",
    "\n",
    "import tensorflow as tf\n",
    "from tensorflow.keras import layers\n",
    "%matplotlib inline"
   ]
  },
  {
   "cell_type": "markdown",
   "metadata": {
    "colab_type": "text",
    "id": "Yct60Sz9N6QU"
   },
   "source": [
    "## Mount Drive"
   ]
  },
  {
   "cell_type": "code",
   "execution_count": 2,
   "metadata": {
    "colab": {
     "base_uri": "https://localhost:8080/",
     "height": 34
    },
    "colab_type": "code",
    "executionInfo": {
     "elapsed": 24209,
     "status": "ok",
     "timestamp": 1600529503039,
     "user": {
      "displayName": "wiem chakroun",
      "photoUrl": "https://lh3.googleusercontent.com/a-/AOh14Gj8s9HGg4btepBpCmzEb_CKbGog70U3_WKfin3K=s64",
      "userId": "15943323347903066587"
     },
     "user_tz": -60
    },
    "id": "F82oqGH7N5rf",
    "outputId": "5347b2da-c611-4add-b714-6c6047e8092e"
   },
   "outputs": [
    {
     "name": "stdout",
     "output_type": "stream",
     "text": [
      "Mounted at /content/drive\n"
     ]
    }
   ],
   "source": [
    "from google.colab import drive\n",
    "drive.mount('/content/drive')"
   ]
  },
  {
   "cell_type": "markdown",
   "metadata": {
    "colab_type": "text",
    "id": "QxbR518CJr6g"
   },
   "source": [
    "### Configs"
   ]
  },
  {
   "cell_type": "code",
   "execution_count": null,
   "metadata": {
    "colab": {},
    "colab_type": "code",
    "id": "WTnYRz0BJr6u"
   },
   "outputs": [],
   "source": [
    "# Experiment paths\n",
    "EXPERIMENT_ID = \"train_lsGAN\"\n",
    "MODEL_SAVE_PATH = os.path.join(\"/content/drive/My Drive/lecture hands on lab/LSGAN/results\", EXPERIMENT_ID)\n",
    "if not os.path.exists(MODEL_SAVE_PATH):\n",
    "    os.makedirs(MODEL_SAVE_PATH)\n",
    "CHECKPOINT_DIR = os.path.join(MODEL_SAVE_PATH, 'training_checkpoints')\n",
    "\n",
    "\n",
    "# Data path\n",
    "DATA_PATH = \"/content/drive/My Drive/lecture hands on lab/datasets/cars/cars_images/\"\n",
    "\n",
    "\n",
    "# Model parameters\n",
    "BATCH_SIZE = 64\n",
    "EPOCHS = 845\n",
    "LATENT_DEPTH = 100\n",
    "IMAGE_SHAPE = [100,100]\n",
    "NB_CHANNELS = 3\n",
    "LR = 1e-4\n",
    "\n",
    "\n",
    "# A fixed random seed is a common \"trick\" used in ML that allows us to recreate\n",
    "# the same data when there is a random element involved.\n",
    "seed = random.seed(30)"
   ]
  },
  {
   "cell_type": "markdown",
   "metadata": {
    "colab_type": "text",
    "id": "3jGSzDvkJr6z"
   },
   "source": [
    "### Data understanding and exploration"
   ]
  },
  {
   "cell_type": "markdown",
   "metadata": {
    "colab_type": "text",
    "id": "SDnqM6FLJr6z"
   },
   "source": [
    "It can be challenging to understand both how GANs work and how deep convolutional neural network models can be trained in a GAN architecture for image generation. A good starting point for beginners is to practice developing and using GANs on simple image datasets used in the field of computer vision. Using small and well-understood datasets means that smaller models can be developed and trained quickly, allowing focus to be put on the model architecture and image generation process itself."
   ]
  },
  {
   "cell_type": "markdown",
   "metadata": {
    "colab_type": "text",
    "id": "AnSl0n1KJr60"
   },
   "source": [
    "We have choosen [cars dataset](https://www.kaggle.com/prondeau/the-car-connection-picture-dataset) from kaggle. It contains a lot of interior and useless images that was filtred to have 8960 diverse images with good quality ready to be used for training.\n",
    "\n",
    "NB: with great model architecture and too little training data, GANs will overfit and will not easily converge."
   ]
  },
  {
   "cell_type": "code",
   "execution_count": null,
   "metadata": {
    "colab": {
     "base_uri": "https://localhost:8080/",
     "height": 34
    },
    "colab_type": "code",
    "executionInfo": {
     "elapsed": 59382,
     "status": "ok",
     "timestamp": 1597398960858,
     "user": {
      "displayName": "wiem chakroun",
      "photoUrl": "https://lh3.googleusercontent.com/a-/AOh14Gj8s9HGg4btepBpCmzEb_CKbGog70U3_WKfin3K=s64",
      "userId": "15943323347903066587"
     },
     "user_tz": -60
    },
    "id": "epKslyUZJr61",
    "outputId": "4e1b04cf-c2f6-4ab0-e3ea-0530b6229d3c"
   },
   "outputs": [
    {
     "data": {
      "text/plain": [
       "8960"
      ]
     },
     "execution_count": 4,
     "metadata": {
      "tags": []
     },
     "output_type": "execute_result"
    }
   ],
   "source": [
    "image_count = len(list(glob(str( DATA_PATH + '*.jpg'))))\n",
    "image_count"
   ]
  },
  {
   "cell_type": "code",
   "execution_count": null,
   "metadata": {
    "colab": {
     "base_uri": "https://localhost:8080/",
     "height": 497
    },
    "colab_type": "code",
    "executionInfo": {
     "elapsed": 1645,
     "status": "ok",
     "timestamp": 1597398973530,
     "user": {
      "displayName": "wiem chakroun",
      "photoUrl": "https://lh3.googleusercontent.com/a-/AOh14Gj8s9HGg4btepBpCmzEb_CKbGog70U3_WKfin3K=s64",
      "userId": "15943323347903066587"
     },
     "user_tz": -60
    },
    "id": "iNXq7foIJr65",
    "outputId": "fdab3aac-e960-4170-bf68-24d7205d3723",
    "scrolled": false
   },
   "outputs": [
    {
     "data": {
      "image/png": "[encoded data removed]",
      "text/plain": [
       "<PIL.JpegImagePlugin.JpegImageFile image mode=RGB size=320x240 at 0x7FE0C35C3710>"
      ]
     },
     "metadata": {
      "tags": []
     },
     "output_type": "display_data"
    },
    {
     "data": {
      "image/png": "[encoded data removed]",
      "text/plain": [
       "<PIL.JpegImagePlugin.JpegImageFile image mode=RGB size=320x240 at 0x7FE0C2B217B8>"
      ]
     },
     "metadata": {
      "tags": []
     },
     "output_type": "display_data"
    }
   ],
   "source": [
    "cars_images_path = list(glob(str(DATA_PATH + '*.jpg')))\n",
    "for image_path in cars_images_path[:2]:\n",
    "    display.display(Image.open(str(image_path)))"
   ]
  },
  {
   "cell_type": "code",
   "execution_count": null,
   "metadata": {
    "colab": {},
    "colab_type": "code",
    "id": "-r9wvYh-Jr69"
   },
   "outputs": [],
   "source": [
    "images_name = [i.split(DATA_PATH) for i in cars_images_path]\n",
    "images_name = [x[:][1] for x in images_name]\n",
    "cars_model = [i.split('_')[0] for i in images_name]"
   ]
  },
  {
   "cell_type": "code",
   "execution_count": null,
   "metadata": {
    "colab": {},
    "colab_type": "code",
    "id": "iiCBTfWmJr7A"
   },
   "outputs": [],
   "source": [
    "def unique(list1): \n",
    "    list_set = set(list1) \n",
    "    unique_list = (list(list_set)) \n",
    "    return unique_list"
   ]
  },
  {
   "cell_type": "code",
   "execution_count": null,
   "metadata": {
    "colab": {
     "base_uri": "https://localhost:8080/",
     "height": 357
    },
    "colab_type": "code",
    "executionInfo": {
     "elapsed": 1484,
     "status": "ok",
     "timestamp": 1597398975401,
     "user": {
      "displayName": "wiem chakroun",
      "photoUrl": "https://lh3.googleusercontent.com/a-/AOh14Gj8s9HGg4btepBpCmzEb_CKbGog70U3_WKfin3K=s64",
      "userId": "15943323347903066587"
     },
     "user_tz": -60
    },
    "id": "h7TNzcuyJr7E",
    "outputId": "a33b0494-f4ec-412c-c20e-552461c040c0",
    "scrolled": true
   },
   "outputs": [
    {
     "data": {
      "text/plain": [
       "['Porsche',\n",
       " 'Subaru',\n",
       " 'Rolls-Royce',\n",
       " 'BMW',\n",
       " 'Tesla',\n",
       " 'Volkswagen',\n",
       " 'Bentley',\n",
       " 'Buick',\n",
       " 'Acura',\n",
       " 'Chrysler',\n",
       " 'Nissan',\n",
       " 'Ram',\n",
       " 'Audi',\n",
       " 'Toyota',\n",
       " 'Cadillac',\n",
       " 'Alfa Romeo',\n",
       " 'Aston Martin',\n",
       " 'Chevrolet',\n",
       " 'Volvo',\n",
       " 'smart']"
      ]
     },
     "execution_count": 8,
     "metadata": {
      "tags": []
     },
     "output_type": "execute_result"
    }
   ],
   "source": [
    "unique_cars = unique(cars_model)\n",
    "unique_cars"
   ]
  },
  {
   "cell_type": "code",
   "execution_count": null,
   "metadata": {
    "colab": {
     "base_uri": "https://localhost:8080/",
     "height": 606
    },
    "colab_type": "code",
    "executionInfo": {
     "elapsed": 1205,
     "status": "ok",
     "timestamp": 1597398976328,
     "user": {
      "displayName": "wiem chakroun",
      "photoUrl": "https://lh3.googleusercontent.com/a-/AOh14Gj8s9HGg4btepBpCmzEb_CKbGog70U3_WKfin3K=s64",
      "userId": "15943323347903066587"
     },
     "user_tz": -60
    },
    "id": "61MJj6tAJr7H",
    "outputId": "c846141d-2d4d-40b2-e94a-ff3fbf5bbb6d"
   },
   "outputs": [
    {
     "data": {
      "image/png": "[encoded data removed]",
      "text/plain": [
       "<Figure size 1440x720 with 1 Axes>"
      ]
     },
     "metadata": {
      "needs_background": "light",
      "tags": []
     },
     "output_type": "display_data"
    }
   ],
   "source": [
    "plt.figure(figsize=(20,10))\n",
    "plt.hist(cars_model, color = \"blue\", lw=0, alpha=0.7)\n",
    "plt.ylabel('images number')\n",
    "plt.xlabel('car model')\n",
    "plt.show()"
   ]
  },
  {
   "cell_type": "code",
   "execution_count": null,
   "metadata": {
    "colab": {},
    "colab_type": "code",
    "id": "8d5cQVU1Jr7K",
    "scrolled": true
   },
   "outputs": [],
   "source": [
    "image_size = []\n",
    "for filename in cars_images_path:\n",
    "    im=Image.open(filename)\n",
    "    im =im.size\n",
    "    image_size.append(im)\n",
    "print(max(image_size))\n",
    "print(min(image_size))"
   ]
  },
  {
   "cell_type": "code",
   "execution_count": null,
   "metadata": {
    "colab": {},
    "colab_type": "code",
    "id": "R5dCW7mpJr7O"
   },
   "outputs": [],
   "source": [
    "# Read in the image\n",
    "image = mpimg.imread(cars_images_path[20])\n",
    "\n",
    "plt.axis(\"off\")\n",
    "plt.imshow(image)"
   ]
  },
  {
   "cell_type": "markdown",
   "metadata": {
    "colab_type": "text",
    "id": "N_lHJDpXJr7R"
   },
   "source": [
    "##### Let's take a look on the different channel axis views of the image (the red, green and blue channels)"
   ]
  },
  {
   "cell_type": "code",
   "execution_count": null,
   "metadata": {
    "colab": {},
    "colab_type": "code",
    "id": "D2JaeNLMJr7S"
   },
   "outputs": [],
   "source": [
    "# Isolate RGB channels\n",
    "r = image[:,:,0]\n",
    "g = image[:,:,1]\n",
    "b = image[:,:,2]\n",
    "\n",
    "# Visualize the individual color channels\n",
    "f, (ax1, ax2, ax3) = plt.subplots(1, 3, figsize=(20,10))\n",
    "ax1.set_title('R channel')\n",
    "ax1.imshow(r, cmap='gray')\n",
    "ax2.set_title('G channel')\n",
    "ax2.imshow(g, cmap='gray')\n",
    "ax3.set_title('B channel')\n",
    "ax3.imshow(b, cmap='gray')"
   ]
  },
  {
   "cell_type": "markdown",
   "metadata": {
    "colab_type": "text",
    "id": "NzPAsEKGJr7V"
   },
   "source": [
    "The dataset contains 8960 images:\n",
    "* Three-channel each one.\n",
    "* Diverse styles\n",
    "* the minimum shape is (320, 124)\n",
    "* the maximum shape is (320, 360)"
   ]
  },
  {
   "cell_type": "markdown",
   "metadata": {
    "colab_type": "text",
    "id": "l7CsygqcJr7V"
   },
   "source": [
    "### Data Loader"
   ]
  },
  {
   "cell_type": "markdown",
   "metadata": {
    "colab_type": "text",
    "id": "HRlRYyGoJr7X"
   },
   "source": [
    "For the Data pipeline, I will show you two versions. The first one will be using Data API provide it by TensorFlow. What we have to do is create a dataset object, tell it where to get the data, then transform it in any way we want, and TensorFlow takes care of all the implementation details, such as multithreading, queuing, batching, prefetching, and so on.\\\n",
    "(1) Create dataset entirely in RAM using tf.data.Dataset.from_tensor_slices() \\\n",
    "(2) Call shuffle to ensure that the training set are independent and identically distributed. \\\n",
    "NB:  the buffer size must be specified, and it is important to make it large enough or else shuffling will not be very efficient.\\\n",
    "(3) Do the necessary transformation by calling the map() method. \\\n",
    "(4) Call the batch() method. It will group the items of the previous dataset in batches of n items. \\\n",
    "(5) Using prefetch will let the dataset work on parallel with training algorithm to get the next batch ready.\n",
    "![alt text](https://drive.google.com/uc?export=view&id=1xe7O6sTg1HxbM_Fc8p57gGXB9keeaDjC)\n",
    "\n",
    "The second version will be using PIL to read the image and do the resizing. The main differences are:\n",
    "- PIL is time-consuming. It takes multiple 4 the time it takes Tensorflow.\n",
    "- PIL is the best in keeping image quality while resizing the image. Because The `resize()` function doesn't modify the used image, it instead returns another Image with the new dimensions.\n",
    "\n",
    "In production, we sometimes sacrifice the quality and tend to get results more quickly. Eventually, we will have the quality but after tunning and many experiences.\n",
    "\n",
    "We must scale the pixel values from the range of unsigned integers in [0,255] to the normalized range of [-1,1] or [0,1]. But you should know that if you're using [-1,1] you need to choose tanh as an activation function and if you are normalizing to [0,1] you use sigmoid activation function."
   ]
  },
  {
   "cell_type": "markdown",
   "metadata": {
    "colab_type": "text",
    "id": "cOjKW6MxJr7Y"
   },
   "source": [
    "### Data Loader using TF API"
   ]
  },
  {
   "cell_type": "code",
   "execution_count": null,
   "metadata": {
    "colab": {},
    "colab_type": "code",
    "id": "kSA9dtNISjTO"
   },
   "outputs": [],
   "source": [
    "@tf.function\n",
    "def preprocessing_data(path):\n",
    "    image = tf.io.read_file(path)\n",
    "    image = tf.image.decode_jpeg(image, channels=3)\n",
    "    image = tf.image.resize(image, [IMAGE_SHAPE[0],IMAGE_SHAPE[1]])\n",
    "    image = image / 255.0\n",
    "    return image"
   ]
  },
  {
   "cell_type": "code",
   "execution_count": null,
   "metadata": {
    "colab": {},
    "colab_type": "code",
    "id": "UxQ6rX3hSkwW"
   },
   "outputs": [],
   "source": [
    "def dataloader(paths):\n",
    "    dataset = tf.data.Dataset.from_tensor_slices(paths)\n",
    "    dataset = dataset.shuffle(10* BATCH_SIZE)\n",
    "    dataset = dataset.map(preprocessing_data)\n",
    "    dataset = dataset.batch(BATCH_SIZE)\n",
    "    dataset = dataset.prefetch(1)\n",
    "    return dataset"
   ]
  },
  {
   "cell_type": "code",
   "execution_count": null,
   "metadata": {
    "colab": {},
    "colab_type": "code",
    "id": "GE0rQNkuSqG_"
   },
   "outputs": [],
   "source": [
    "dataset = dataloader(cars_images_path)\n",
    "for batch in dataset.take(1):\n",
    "    for img in batch:\n",
    "        img_np = img.numpy()\n",
    "        plt.figure()\n",
    "        plt.axis('off')\n",
    "        plt.imshow((img_np-img_np.min())/(img_np.max()-img_np.min()))"
   ]
  },
  {
   "cell_type": "markdown",
   "metadata": {
    "colab_type": "text",
    "id": "3-exs4HuSt77"
   },
   "source": [
    "### Data Loader using PIL"
   ]
  },
  {
   "cell_type": "code",
   "execution_count": null,
   "metadata": {
    "colab": {},
    "colab_type": "code",
    "id": "T4cEuZEyJr7Y"
   },
   "outputs": [],
   "source": [
    "image_list = []\n",
    "for filename in cars_images_path:\n",
    "    im=Image.open(filename)\n",
    "    im =im.resize((IMAGE_SHAPE[0],IMAGE_SHAPE[1]))\n",
    "    image_list.append(im)"
   ]
  },
  {
   "cell_type": "code",
   "execution_count": null,
   "metadata": {
    "colab": {},
    "colab_type": "code",
    "id": "yoOPJtltJr7b"
   },
   "outputs": [],
   "source": [
    "images_processed = []\n",
    "for image in image_list:\n",
    "    gan_train_images = np.asarray(image)\n",
    "    gan_train_images = gan_train_images.astype('float32') /255.0\n",
    "    images_processed.append(gan_train_images)"
   ]
  },
  {
   "cell_type": "code",
   "execution_count": null,
   "metadata": {
    "colab": {},
    "colab_type": "code",
    "id": "lNnlxoQtJr7e"
   },
   "outputs": [],
   "source": [
    "dataset = tf.data.Dataset.from_tensor_slices(images_processed).shuffle(10* BATCH_SIZE).batch(BATCH_SIZE)\n",
    "for batch in dataset.take(1):\n",
    "    for img in batch:\n",
    "        img_np = img.numpy()\n",
    "        plt.figure()\n",
    "        plt.axis('off')\n",
    "        plt.imshow((img_np-img_np.min())/(img_np.max()-img_np.min()))"
   ]
  },
  {
   "cell_type": "markdown",
   "metadata": {
    "colab_type": "text",
    "id": "XzCGzTy_Jr7k"
   },
   "source": [
    "# Modeling"
   ]
  },
  {
   "cell_type": "markdown",
   "metadata": {
    "colab_type": "text",
    "id": "zYEGjzRjJr7l"
   },
   "source": [
    "### Generator\n",
    "\n",
    "\n",
    "![Generator.png](https://drive.google.com/uc?export=view&id=1R14EtpJXZo_kKWJSsUqUPPdLgZ_phMhV)"
   ]
  },
  {
   "cell_type": "code",
   "execution_count": null,
   "metadata": {
    "colab": {},
    "colab_type": "code",
    "id": "bpKoBrpQJr7l"
   },
   "outputs": [],
   "source": [
    "def make_generator_model():\n",
    "    model = tf.keras.Sequential()\n",
    "    model.add(layers.Dense(25*25*128, use_bias=False, input_shape=(100,)))\n",
    "    model.add(layers.BatchNormalization())\n",
    "    model.add(layers.ReLU())\n",
    "    model.add(layers.Reshape((25, 25, 128)))\n",
    "    assert model.output_shape == (None, 25, 25, 128) # Note: None is the batch size\n",
    "\n",
    "    model.add(layers.Conv2DTranspose(128, (5, 5), strides=(1, 1), padding='same', use_bias=False))\n",
    "    assert model.output_shape == (None, 25, 25, 128)\n",
    "    model.add(layers.BatchNormalization())\n",
    "    model.add(layers.ReLU())\n",
    "\n",
    "    model.add(layers.Conv2DTranspose(64, (5, 5), strides=(2, 2), padding='same', use_bias=False))\n",
    "    assert model.output_shape == (None, 50, 50, 64)\n",
    "    model.add(layers.BatchNormalization())\n",
    "    model.add(layers.ReLU())\n",
    "    \n",
    "    model.add(layers.Conv2DTranspose(3, (5, 5), strides=(2, 2), padding='same', use_bias=False, activation='sigmoid'))\n",
    "    assert model.output_shape == (None, 100, 100, 3)\n",
    "    model.summary()\n",
    "    return model"
   ]
  },
  {
   "cell_type": "code",
   "execution_count": null,
   "metadata": {
    "colab": {},
    "colab_type": "code",
    "id": "Hi2xiM0RJr7o",
    "scrolled": false
   },
   "outputs": [],
   "source": [
    "generator = make_generator_model()\n",
    "noise = tf.random.normal([1, LATENT_DEPTH])\n",
    "generated_image = generator(noise, training=True)\n",
    "\n",
    "plt.imshow(generated_image[0, :, :, :], cmap='gray')"
   ]
  },
  {
   "cell_type": "markdown",
   "metadata": {
    "colab_type": "text",
    "id": "SrY1IFJtJr7r"
   },
   "source": [
    "### Discriminator"
   ]
  },
  {
   "cell_type": "markdown",
   "metadata": {
    "colab_type": "text",
    "id": "5cu6DclNJr7r"
   },
   "source": [
    "\n",
    "![Discriminator.png](https://drive.google.com/uc?export=view&id=1AUwLeBvtGLnnoMx6m-xXi9Aq4LuQjaOp)"
   ]
  },
  {
   "cell_type": "code",
   "execution_count": null,
   "metadata": {
    "colab": {},
    "colab_type": "code",
    "id": "A5pcyY9bJr7s"
   },
   "outputs": [],
   "source": [
    "def make_discriminator_model():\n",
    "    model = tf.keras.Sequential()\n",
    "    model.add(layers.Conv2D(64, (5, 5), strides=(2, 2), padding='same',\n",
    "                                     input_shape=[100, 100, 3]))\n",
    "    model.add(layers.ReLU(0.2))\n",
    "    model.add(layers.Dropout(0.3))\n",
    "\n",
    "    model.add(layers.Conv2D(128, (5, 5), strides=(2, 2), padding='same'))\n",
    "    model.add(layers.ReLU())\n",
    "    model.add(layers.Dropout(0.3))\n",
    "\n",
    "    model.add(layers.Flatten())\n",
    "    model.add(layers.Dense(1))\n",
    "    model.summary()\n",
    "    return model"
   ]
  },
  {
   "cell_type": "code",
   "execution_count": null,
   "metadata": {
    "colab": {},
    "colab_type": "code",
    "id": "7kbLWj44Jr7u"
   },
   "outputs": [],
   "source": [
    "discriminator = make_discriminator_model()\n",
    "decision = discriminator(generated_image)\n",
    "print (decision)"
   ]
  },
  {
   "cell_type": "markdown",
   "metadata": {
    "colab_type": "text",
    "id": "HPH_TGCcJr7x"
   },
   "source": [
    "## Loss and Optimization"
   ]
  },
  {
   "cell_type": "code",
   "execution_count": null,
   "metadata": {
    "colab": {},
    "colab_type": "code",
    "id": "TERhc1HoJr7x"
   },
   "outputs": [],
   "source": [
    "generator_optimizer = tf.keras.optimizers.Adam(lr=LR)\n",
    "discriminator_optimizer = tf.keras.optimizers.Adam(lr=LR)"
   ]
  },
  {
   "cell_type": "markdown",
   "metadata": {
    "colab_type": "text",
    "id": "jgs_D9AmTacY"
   },
   "source": [
    "The model is trained to minimize [MeanSquaredError](https://rohanvarma.me/Loss-Functions/)"
   ]
  },
  {
   "cell_type": "code",
   "execution_count": null,
   "metadata": {
    "colab": {},
    "colab_type": "code",
    "id": "eaQVwhIAJr70"
   },
   "outputs": [],
   "source": [
    "mse = tf.losses.MeanSquaredError()"
   ]
  },
  {
   "cell_type": "code",
   "execution_count": null,
   "metadata": {
    "colab": {},
    "colab_type": "code",
    "id": "m5_F2J9HJr73"
   },
   "outputs": [],
   "source": [
    "def discriminator_loss(r_logit, f_logit):\n",
    "    r_loss = mse(tf.ones_like(r_logit), r_logit)\n",
    "    f_loss = mse(tf.zeros_like(f_logit), f_logit)\n",
    "    loss_total = r_loss + f_loss\n",
    "    return loss_total"
   ]
  },
  {
   "cell_type": "code",
   "execution_count": null,
   "metadata": {
    "colab": {},
    "colab_type": "code",
    "id": "aRNfScmiJr76"
   },
   "outputs": [],
   "source": [
    "def generator_loss(f_logit):\n",
    "    f_loss = mse(tf.ones_like(f_logit), f_logit)\n",
    "    return f_loss"
   ]
  },
  {
   "cell_type": "markdown",
   "metadata": {
    "colab_type": "text",
    "id": "YS0aygEeJr78"
   },
   "source": [
    "## Experiment utils (RUN ME)"
   ]
  },
  {
   "cell_type": "code",
   "execution_count": null,
   "metadata": {
    "colab": {},
    "colab_type": "code",
    "id": "85bx061jJr79"
   },
   "outputs": [],
   "source": [
    "def summary(name_data_dict,\n",
    "            step=None,\n",
    "            types=['mean', 'std', 'max', 'min', 'sparsity', 'histogram'],\n",
    "            historgram_buckets=None,\n",
    "            name='summary'):\n",
    "    \"\"\"Summary.\n",
    "    Examples\n",
    "    --------\n",
    "    >>> summary({'a': data_a, 'b': data_b})\n",
    "    \"\"\"\n",
    "    def _summary(name, data):\n",
    "        tf.summary.trace_on(graph=False, profiler=True)\n",
    "        if data.shape == ():\n",
    "            tf.summary.scalar(name, data, step=step)\n",
    "            tf.summary.trace_export(\n",
    "              name=\"trace\",\n",
    "              step=0,\n",
    "              profiler_outdir=MODEL_SAVE_PATH\n",
    "            )\n",
    "        else:\n",
    "            if 'mean' in types:\n",
    "                tf.summary.scalar(name + '-mean', tf.math.reduce_mean(data), step=step)\n",
    "            if 'std' in types:\n",
    "                tf.summary.scalar(name + '-std', tf.math.reduce_std(data), step=step)\n",
    "            if 'max' in types:\n",
    "                tf.summary.scalar(name + '-max', tf.math.reduce_max(data), step=step)\n",
    "            if 'min' in types:\n",
    "                tf.summary.scalar(name + '-min', tf.math.reduce_min(data), step=step)\n",
    "            if 'sparsity' in types:\n",
    "                tf.summary.scalar(name + '-sparsity', tf.math.zero_fraction(data), step=step)\n",
    "            if 'histogram' in types:\n",
    "                tf.summary.histogram(name, data, step=step, buckets=historgram_buckets)\n",
    "            tf.summary.trace_export(\n",
    "              name=\"trace\",\n",
    "              step=0,\n",
    "              profiler_outdir=MODEL_SAVE_PATH\n",
    "            )\n",
    "    with tf.name_scope(name):\n",
    "        for name, data in name_data_dict.items():\n",
    "            _summary(name, data)"
   ]
  },
  {
   "cell_type": "code",
   "execution_count": null,
   "metadata": {
    "colab": {},
    "colab_type": "code",
    "id": "SmCBaW4GJr7_"
   },
   "outputs": [],
   "source": [
    "train_summary_writer = tf.summary.create_file_writer(os.path.join(EXPERIMENT_ID, 'summaries', 'train'))\n",
    "checkpoint_prefix = os.path.join(CHECKPOINT_DIR, \"ckpt\")\n",
    "checkpoint = tf.train.Checkpoint(generator_optimizer=generator_optimizer,\n",
    "                                 discriminator_optimizer=discriminator_optimizer,\n",
    "                                 generator=generator,\n",
    "                                 discriminator=discriminator)"
   ]
  },
  {
   "cell_type": "code",
   "execution_count": null,
   "metadata": {
    "colab": {},
    "colab_type": "code",
    "id": "xPfaf7ZvJr8B"
   },
   "outputs": [],
   "source": [
    "def generate_and_save_images(model, epoch):\n",
    "    \n",
    "    plt.figure(figsize=(15,10))\n",
    "\n",
    "    for i in range(4):\n",
    "        noise = tf.random.normal([1,100]) - 1 + (i * 0.2) + 0.1 \n",
    "        images = model(noise, training=False)\n",
    "        \n",
    "        image = images[0, :, :, :]\n",
    "        image = np.reshape(image, [100, 100, 3])\n",
    "\n",
    "        plt.subplot(1, 4, i+1)\n",
    "        plt.imshow(image, cmap='gray')\n",
    "        plt.axis('off')\n",
    "        plt.title(\"Randomly Generated Images\")\n",
    "\n",
    "    plt.tight_layout()  \n",
    "    plt.savefig(os.path.join(MODEL_SAVE_PATH,'image_at_epoch_{:02d}.png'.format(epoch)))\n",
    "    plt.show()"
   ]
  },
  {
   "cell_type": "markdown",
   "metadata": {
    "colab_type": "text",
    "id": "LTnFrMB_Jr8E"
   },
   "source": [
    "## Training Process"
   ]
  },
  {
   "cell_type": "code",
   "execution_count": null,
   "metadata": {
    "colab": {},
    "colab_type": "code",
    "id": "4LTP2XOhJr8E"
   },
   "outputs": [],
   "source": [
    "# Notice the use of `tf.function`\n",
    "# This annotation causes the function to be \"compiled\".\n",
    "@tf.function\n",
    "def train_step(images):\n",
    "    noise = tf.random.normal([BATCH_SIZE, LATENT_DEPTH])\n",
    "\n",
    "    with tf.GradientTape() as gen_tape, tf.GradientTape() as disc_tape:\n",
    "        generated_images = generator(noise, training=True)\n",
    "\n",
    "        real_output = discriminator(images, training=True)\n",
    "        fake_output = discriminator(generated_images, training=True)\n",
    "\n",
    "        gen_loss = generator_loss(fake_output)\n",
    "        disc_loss = discriminator_loss(real_output, fake_output)\n",
    "\n",
    "    gradients_of_generator = gen_tape.gradient(gen_loss, generator.trainable_variables)\n",
    "    gradients_of_discriminator = disc_tape.gradient(disc_loss, discriminator.trainable_variables)\n",
    "\n",
    "    generator_optimizer.apply_gradients(zip(gradients_of_generator, generator.trainable_variables))\n",
    "    discriminator_optimizer.apply_gradients(zip(gradients_of_discriminator, discriminator.trainable_variables))\n",
    "    return {'Generator loss': gen_loss,\n",
    "            'Discriminator loss': disc_loss}"
   ]
  },
  {
   "cell_type": "code",
   "execution_count": null,
   "metadata": {
    "colab": {},
    "colab_type": "code",
    "id": "iJlxZ92OJr8H"
   },
   "outputs": [],
   "source": [
    "def train(dataset, epochs):\n",
    "    tf.summary.trace_on(graph=False, profiler=True)\n",
    "    with train_summary_writer.as_default():\n",
    "        with tf.summary.record_if(True):\n",
    "            for epoch in range(epochs):\n",
    "                start = time.time()\n",
    "                for image_batch in dataset:\n",
    "                    loss_dict = train_step(image_batch)\n",
    "                summary(loss_dict, step=generator_optimizer.iterations, name='losses')\n",
    "\n",
    "                display.clear_output(wait=True)\n",
    "                generate_and_save_images(generator,\n",
    "                                        epoch + 1)\n",
    "                # Save the model every 15 epochs\n",
    "                if (epoch + 1) % 15 == 0:\n",
    "                    checkpoint.save(file_prefix = checkpoint_prefix)\n",
    "                print ('Time for epoch {} is {} sec'.format(epoch + 1, time.time()-start))\n",
    "\n",
    "\n",
    "    # Generate after the final epoch\n",
    "    display.clear_output(wait=True)\n",
    "    generate_and_save_images(generator, epochs)"
   ]
  },
  {
   "cell_type": "code",
   "execution_count": 6,
   "metadata": {
    "colab": {},
    "colab_type": "code",
    "executionInfo": {
     "elapsed": 3340,
     "status": "ok",
     "timestamp": 1600529999348,
     "user": {
      "displayName": "wiem chakroun",
      "photoUrl": "https://lh3.googleusercontent.com/a-/AOh14Gj8s9HGg4btepBpCmzEb_CKbGog70U3_WKfin3K=s64",
      "userId": "15943323347903066587"
     },
     "user_tz": -60
    },
    "id": "UcZGoWzwYmhv"
   },
   "outputs": [],
   "source": [
    "%tensorboard --logdir='/content/drive/My Drive/lecture hands on lab/LSGAN/results'"
   ]
  },
  {
   "cell_type": "code",
   "execution_count": null,
   "metadata": {
    "colab": {},
    "colab_type": "code",
    "id": "q0j2GQmTJr8M",
    "scrolled": true
   },
   "outputs": [],
   "source": [
    "train(dataset, EPOCHS)"
   ]
  },
  {
   "cell_type": "markdown",
   "metadata": {
    "colab_type": "text",
    "id": "TOfGk2jdJr8Q"
   },
   "source": [
    "### Generate Gif with the whole generated images during training"
   ]
  },
  {
   "cell_type": "code",
   "execution_count": 1,
   "metadata": {
    "colab": {},
    "colab_type": "code",
    "executionInfo": {
     "elapsed": 1499,
     "status": "ok",
     "timestamp": 1600528980709,
     "user": {
      "displayName": "wiem chakroun",
      "photoUrl": "https://lh3.googleusercontent.com/a-/AOh14Gj8s9HGg4btepBpCmzEb_CKbGog70U3_WKfin3K=s64",
      "userId": "15943323347903066587"
     },
     "user_tz": -60
    },
    "id": "Zkr-VgoLJr8Q"
   },
   "outputs": [],
   "source": [
    "anim_file = 'dcgan.gif'\n",
    "\n",
    "with imageio.get_writer(anim_file, mode='I') as writer:\n",
    "    filenames = glob('image*.png')\n",
    "    filenames = sorted(filenames)\n",
    "    last = -1\n",
    "    for i,filename in enumerate(filenames):\n",
    "        frame = 2*(i**0.5)\n",
    "        if round(frame) > round(last):\n",
    "            last = frame\n",
    "        else:\n",
    "            continue\n",
    "        image = imageio.imread(filename)\n",
    "        writer.append_data(image)\n",
    "    image = imageio.imread(filename)\n",
    "    writer.append_data(image)\n",
    "\n",
    "import IPython\n",
    "if IPython.version_info > (6,2,0,''):\n",
    "    display.Image(filename=anim_file)"
   ]
  },
  {
   "cell_type": "markdown",
   "metadata": {
    "colab_type": "text",
    "id": "KyXy7-t6Jr8S"
   },
   "source": [
    "# Congratulations!\n",
    "you have built your first Least Square GAN\n",
    "\n",
    "### Suggestion tasks for practice\n",
    "\n",
    "* Play arround with the model architecture\n",
    "* Play arround with optimizer\n",
    "* Tuning the hyperparameters\n",
    "  - Learning rate\n",
    "  - Batch size\n",
    "  - Number of epochs\n",
    "  - Generator optimizer\n",
    "  - Discriminator optimizer\n",
    "  - Number of layers\n",
    "  - Number of units in a dense layer\n",
    "  - Activation function\n",
    "* Observe the discriminator and generator loss failure and image generation failure using tensorboard\n",
    "* See this [github](https://github.com/soumith/ganhacks) repo that contains a set of 17 hacks that are useful for getting models working\n",
    "* Try [hinge loss](https://rohanvarma.me/Loss-Functions/)"
   ]
  },
  {
   "cell_type": "code",
   "execution_count": null,
   "metadata": {
    "colab": {},
    "colab_type": "code",
    "id": "j_ltB0HaJr8T"
   },
   "outputs": [],
   "source": [
    "## Solution for hinge loss\n",
    "def discriminator_loss(r_logit, f_logit):\n",
    "    r_loss = tf.reduce_mean(tf.maximum(1 - r_logit, 0))\n",
    "    f_loss = tf.reduce_mean(tf.maximum(1 + f_logit, 0))\n",
    "    return r_loss, f_loss\n",
    "\n",
    "def generator_loss(f_logit):\n",
    "    f_loss = tf.reduce_mean(- f_logit)\n",
    "    return f_loss"
   ]
  }
 ],
 "metadata": {
  "accelerator": "GPU",
  "colab": {
   "collapsed_sections": [
    "TOfGk2jdJr8Q"
   ],
   "name": "LSGAN.ipynb",
   "provenance": [],
   "toc_visible": true
  },
  "kernelspec": {
   "display_name": "Python 3",
   "language": "python",
   "name": "python3"
  },
  "language_info": {
   "codemirror_mode": {
    "name": "ipython",
    "version": 3
   },
   "file_extension": ".py",
   "mimetype": "text/x-python",
   "name": "python",
   "nbconvert_exporter": "python",
   "pygments_lexer": "ipython3",
   "version": "3.6.10"
  }
 },
 "nbformat": 4,
 "nbformat_minor": 1
}
